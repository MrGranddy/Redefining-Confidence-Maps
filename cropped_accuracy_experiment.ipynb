{
 "cells": [
  {
   "cell_type": "code",
   "execution_count": 1,
   "metadata": {},
   "outputs": [],
   "source": [
    "import os\n",
    "\n",
    "from PIL import Image\n",
    "import numpy as np\n",
    "\n",
    "import matplotlib.pyplot as plt"
   ]
  },
  {
   "cell_type": "code",
   "execution_count": 2,
   "metadata": {},
   "outputs": [],
   "source": [
    "cm_types = [\"acyclic\", \"karamalis\", \"mid\", \"min\", \"ultranerf\"]\n",
    "datasets = [\"leg\", \"liver\", \"spine\"]\n",
    "crops = [\"full\", \"left\", \"right\", \"partial\"]"
   ]
  },
  {
   "cell_type": "code",
   "execution_count": 3,
   "metadata": {},
   "outputs": [],
   "source": [
    "data_path = \"C:/Users/Bugra/Desktop/masters-thesis/final_data\""
   ]
  },
  {
   "cell_type": "code",
   "execution_count": 4,
   "metadata": {},
   "outputs": [],
   "source": [
    "def calculate_psnr(img1, img2):\n",
    "\n",
    "    # Calculate MSE\n",
    "    mse = np.mean((img1 - img2) ** 2)\n",
    "    \n",
    "    # Avoid division by zero\n",
    "    if mse == 0:\n",
    "        mse = 1e-10\n",
    "    \n",
    "    # Calculate PSNR\n",
    "    max_pixel = 255.0\n",
    "    psnr = 20 * np.log10(max_pixel / np.sqrt(mse))\n",
    "    return psnr"
   ]
  },
  {
   "cell_type": "code",
   "execution_count": 5,
   "metadata": {},
   "outputs": [
    {
     "name": "stdout",
     "output_type": "stream",
     "text": [
      "PSNR for acyclic-leg left-right intersection: 28.77 ± 0.71\n",
      "PSNR for acyclic-liver left-right intersection: 28.50 ± 0.79\n",
      "PSNR for acyclic-spine left-right intersection: 33.02 ± 2.27\n",
      "PSNR for karamalis-leg left-right intersection: 29.70 ± 1.58\n",
      "PSNR for karamalis-liver left-right intersection: 28.56 ± 0.76\n",
      "PSNR for karamalis-spine left-right intersection: 33.38 ± 4.62\n",
      "PSNR for mid-leg left-right intersection: 29.00 ± 1.38\n",
      "PSNR for mid-liver left-right intersection: 28.58 ± 0.77\n",
      "PSNR for mid-spine left-right intersection: 32.72 ± 5.15\n",
      "PSNR for min-leg left-right intersection: 29.17 ± 2.17\n",
      "PSNR for min-liver left-right intersection: 28.56 ± 0.76\n",
      "PSNR for min-spine left-right intersection: 33.40 ± 4.66\n",
      "PSNR for ultranerf-leg left-right intersection: 29.77 ± 1.35\n",
      "PSNR for ultranerf-liver left-right intersection: 29.68 ± 1.22\n",
      "PSNR for ultranerf-spine left-right intersection: 30.74 ± 0.87\n"
     ]
    }
   ],
   "source": [
    "for cm_type in cm_types:\n",
    "    for dataset in datasets:\n",
    "\n",
    "        # Load full\n",
    "        full = np.load(os.path.join(data_path, cm_type, dataset, \"full\", \"conf_map.npy\"))\n",
    "\n",
    "        # First left and right experiments\n",
    "        left = np.load(os.path.join(data_path, cm_type, dataset, \"left\", \"conf_map.npy\"))\n",
    "        right = np.load(os.path.join(data_path, cm_type, dataset, \"right\", \"conf_map.npy\"))\n",
    "\n",
    "        left_start = full.shape[2] - right.shape[2]\n",
    "        right_end = 2 * left.shape[2] - full.shape[2]\n",
    "\n",
    "        left_intersect = left[:, :, left_start:]\n",
    "        right_intersect = right[:, :, :right_end]\n",
    "\n",
    "        # Calculate PSNR for each slice and add to list\n",
    "        psnrs = []\n",
    "        for i in range(full.shape[0]):\n",
    "            psnrs.append(calculate_psnr(left_intersect[i], right_intersect[i]))\n",
    "\n",
    "        # Calculate mean and std\n",
    "        mean_psnr = np.mean(psnrs)\n",
    "        std_psnr = np.std(psnrs)\n",
    "\n",
    "        print(f\"PSNR for {cm_type}-{dataset} left-right intersection: {mean_psnr:.2f} ± {std_psnr:.2f}\")\n",
    "\n"
   ]
  },
  {
   "cell_type": "code",
   "execution_count": 6,
   "metadata": {},
   "outputs": [
    {
     "name": "stdout",
     "output_type": "stream",
     "text": [
      "PSNR for acyclic-leg full-partial intersection: 27.61 ± 0.91\n",
      "PSNR for acyclic-liver full-partial intersection: 27.81 ± 0.94\n",
      "PSNR for acyclic-spine full-partial intersection: 27.03 ± 0.86\n",
      "PSNR for karamalis-leg full-partial intersection: 27.55 ± 0.71\n",
      "PSNR for karamalis-liver full-partial intersection: 27.54 ± 0.89\n",
      "PSNR for karamalis-spine full-partial intersection: 31.88 ± 14.95\n",
      "PSNR for mid-leg full-partial intersection: 27.77 ± 0.78\n",
      "PSNR for mid-liver full-partial intersection: 27.93 ± 0.80\n",
      "PSNR for mid-spine full-partial intersection: 30.01 ± 5.57\n",
      "PSNR for min-leg full-partial intersection: 27.99 ± 0.87\n",
      "PSNR for min-liver full-partial intersection: 27.74 ± 1.00\n",
      "PSNR for min-spine full-partial intersection: 31.86 ± 14.72\n",
      "PSNR for ultranerf-leg full-partial intersection: 28.40 ± 0.86\n",
      "PSNR for ultranerf-liver full-partial intersection: 27.48 ± 0.23\n",
      "PSNR for ultranerf-spine full-partial intersection: 27.76 ± 0.51\n"
     ]
    }
   ],
   "source": [
    "for cm_type in cm_types:\n",
    "    for dataset in datasets:\n",
    "\n",
    "        # Load full\n",
    "        full = np.load(os.path.join(data_path, cm_type, dataset, \"full\", \"conf_map.npy\"))\n",
    "\n",
    "        # First left and right experiments\n",
    "        try:\n",
    "            partial = np.load(os.path.join(data_path, cm_type, dataset, \"partial\", \"conf_map.npy\"))\n",
    "        except FileNotFoundError:\n",
    "            print(f\"Partial not found for {cm_type}-{dataset}\")\n",
    "            continue\n",
    "\n",
    "        full_intersect = full[:, partial.shape[1] - 5: partial.shape[1], :]\n",
    "        partial_intersect = partial[:, -5:, :]\n",
    "\n",
    "        # Calculate PSNR for each slice and add to list\n",
    "        psnrs = []\n",
    "        for i in range(full_intersect.shape[0]):\n",
    "            psnrs.append(calculate_psnr(full_intersect[i], partial_intersect[i]))\n",
    "\n",
    "        # Calculate mean and std\n",
    "        mean_psnr = np.mean(psnrs)\n",
    "        std_psnr = np.std(psnrs)\n",
    "\n",
    "        print(f\"PSNR for {cm_type}-{dataset} full-partial intersection: {mean_psnr:.2f} ± {std_psnr:.2f}\")\n"
   ]
  },
  {
   "cell_type": "code",
   "execution_count": null,
   "metadata": {},
   "outputs": [],
   "source": []
  },
  {
   "cell_type": "code",
   "execution_count": null,
   "metadata": {},
   "outputs": [],
   "source": []
  },
  {
   "cell_type": "code",
   "execution_count": null,
   "metadata": {},
   "outputs": [],
   "source": []
  }
 ],
 "metadata": {
  "kernelspec": {
   "display_name": "Python 3",
   "language": "python",
   "name": "python3"
  },
  "language_info": {
   "codemirror_mode": {
    "name": "ipython",
    "version": 3
   },
   "file_extension": ".py",
   "mimetype": "text/x-python",
   "name": "python",
   "nbconvert_exporter": "python",
   "pygments_lexer": "ipython3",
   "version": "3.10.8"
  }
 },
 "nbformat": 4,
 "nbformat_minor": 2
}
