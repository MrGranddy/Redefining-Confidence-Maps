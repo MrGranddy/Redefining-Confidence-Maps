{
 "cells": [
  {
   "cell_type": "code",
   "execution_count": 1,
   "metadata": {},
   "outputs": [],
   "source": [
    "import nibabel as nib\n",
    "\n",
    "import numpy as np\n",
    "\n",
    "from utils import read_tracking, write_tracking"
   ]
  },
  {
   "cell_type": "code",
   "execution_count": 2,
   "metadata": {},
   "outputs": [],
   "source": [
    "tracking_path = \"../lab_al.ts\"\n",
    "dest_path = \"../lab_al_corrected.csv\"\n",
    "\n",
    "tracking = read_tracking(tracking_path)"
   ]
  },
  {
   "cell_type": "code",
   "execution_count": 3,
   "metadata": {},
   "outputs": [],
   "source": [
    "# Create rotation matrix around x axis 4x4 transformation matrix\n",
    "rotate_x = lambda theta: np.array([[1, 0, 0, 0],\n",
    "                                      [0, np.cos(theta), -np.sin(theta), 0],\n",
    "                                      [0, np.sin(theta), np.cos(theta), 0],\n",
    "                                      [0, 0, 0, 1]])\n",
    "\n",
    "# Create rotation matrix around y axis 4x4 transformation matrix\n",
    "rotate_y = lambda theta: np.array([[np.cos(theta), 0, np.sin(theta), 0],\n",
    "                                      [0, 1, 0, 0],\n",
    "                                      [-np.sin(theta), 0, np.cos(theta), 0],\n",
    "                                      [0, 0, 0, 1]])\n",
    "\n",
    "# Create rotation matrix around z axis 4x4 transformation matrix\n",
    "rotate_z = lambda theta: np.array([[np.cos(theta), -np.sin(theta), 0, 0],\n",
    "                                      [np.sin(theta), np.cos(theta), 0, 0],\n",
    "                                      [0, 0, 1, 0],\n",
    "                                      [0, 0, 0, 1]])\n",
    "\n",
    "# Create transformation matrix for flipping x axis\n",
    "flip_x = np.array([[-1, 0, 0, 0],\n",
    "                   [0, 1, 0, 0],\n",
    "                   [0, 0, 1, 0],\n",
    "                   [0, 0, 0, 1]])\n",
    "\n",
    "# Create transformation matrix for flipping y axis\n",
    "flip_y = np.array([[1, 0, 0, 0],\n",
    "                   [0, -1, 0, 0],\n",
    "                   [0, 0, 1, 0],\n",
    "                   [0, 0, 0, 1]])\n",
    "\n",
    "# Create transformation matrix for flipping z axis\n",
    "flip_z = np.array([[1, 0, 0, 0],\n",
    "                   [0, 1, 0, 0],\n",
    "                   [0, 0, -1, 0],\n",
    "                   [0, 0, 0, 1]])\n"
   ]
  },
  {
   "cell_type": "code",
   "execution_count": 4,
   "metadata": {},
   "outputs": [],
   "source": [
    "# Flip in y axis\n",
    "flip_y_axis = lambda x: np.dot(flip_y, x)\n",
    "tracking = np.apply_along_axis(flip_y_axis, 1, tracking)\n",
    "\n",
    "degrees = 40\n",
    "rad = np.deg2rad(degrees)\n",
    "\n",
    "# Rotate around y axis by 45 degrees\n",
    "rotate_y_axis = lambda x: np.dot(rotate_y(-rad), x)\n",
    "tracking = np.apply_along_axis(rotate_y_axis, 1, tracking)"
   ]
  },
  {
   "cell_type": "code",
   "execution_count": 5,
   "metadata": {},
   "outputs": [],
   "source": [
    "# Create translation matrix\n",
    "translation = np.eye(4, dtype=np.float32)\n",
    "translation[1, 3] -= 537 / 2 * 0.172780\n",
    "\n",
    "# Apply translation\n",
    "tracking = np.apply_along_axis(lambda x: np.dot(translation, x), 1, tracking)\n",
    "\n",
    "write_tracking(dest_path, tracking)"
   ]
  },
  {
   "cell_type": "code",
   "execution_count": 6,
   "metadata": {},
   "outputs": [
    {
     "name": "stdout",
     "output_type": "stream",
     "text": [
      "(221, 537, 1714)\n"
     ]
    }
   ],
   "source": [
    "path = \"../lab_al.nii.gz\"\n",
    "img = nib.load(path)\n",
    "data = img.get_fdata()\n",
    "\n",
    "print(data.shape)"
   ]
  },
  {
   "cell_type": "code",
   "execution_count": 7,
   "metadata": {},
   "outputs": [
    {
     "name": "stdout",
     "output_type": "stream",
     "text": [
      "Tracking shape: (1714, 4, 4)\n"
     ]
    }
   ],
   "source": [
    "print(f\"Tracking shape: {tracking.shape}\")"
   ]
  },
  {
   "cell_type": "code",
   "execution_count": 8,
   "metadata": {},
   "outputs": [],
   "source": [
    "# Create leg data\n",
    "\n",
    "# Swap image axes\n",
    "data = np.swapaxes(data, 1, 2)\n",
    "data = np.swapaxes(data, 0, 1)\n",
    "data = np.swapaxes(data, 1, 2)"
   ]
  },
  {
   "cell_type": "code",
   "execution_count": 9,
   "metadata": {},
   "outputs": [],
   "source": [
    "import os\n",
    "import shutil\n",
    "from PIL import Image"
   ]
  },
  {
   "cell_type": "code",
   "execution_count": 10,
   "metadata": {},
   "outputs": [
    {
     "name": "stdout",
     "output_type": "stream",
     "text": [
      "Data shape: (1714, 537, 221)\n"
     ]
    }
   ],
   "source": [
    "print(f\"Data shape: {data.shape}\")"
   ]
  },
  {
   "cell_type": "code",
   "execution_count": 11,
   "metadata": {},
   "outputs": [],
   "source": [
    "path = \"leg_data\"\n",
    "if os.path.isdir(path):\n",
    "    shutil.rmtree(path)\n",
    "os.makedirs(path)\n",
    "\n",
    "os.makedirs(os.path.join(path, \"images\"))"
   ]
  },
  {
   "cell_type": "code",
   "execution_count": 12,
   "metadata": {},
   "outputs": [],
   "source": [
    "# Save images.npy\n",
    "np.save(os.path.join(path, \"images.npy\"), data)\n",
    "# Save poses.npy\n",
    "np.save(os.path.join(path, \"poses.npy\"), tracking)\n",
    "\n",
    "data = data.astype(np.uint8)\n",
    "\n",
    "# Save images\n",
    "for i in range(data.shape[0]):\n",
    "    img = Image.fromarray(data[i, :, :])\n",
    "    img.save(os.path.join(path, \"images\", f\"{i}.png\"))"
   ]
  },
  {
   "cell_type": "code",
   "execution_count": 14,
   "metadata": {},
   "outputs": [
    {
     "data": {
      "text/plain": [
       "array([[[ 33,  32,  32, ...,  32,  63, 178],\n",
       "        [146, 140, 137, ..., 126, 120,  51],\n",
       "        [137, 132, 126, ..., 104, 113,  52],\n",
       "        ...,\n",
       "        [ 25,  27,  25, ...,  23,  26,  12],\n",
       "        [ 24,  24,  25, ...,  31,  29,  13],\n",
       "        [ 28,  25,  21, ...,  27,  24,  10]],\n",
       "\n",
       "       [[ 33,  31,  32, ...,  30,  62, 178],\n",
       "        [146, 140, 137, ..., 125, 117,  48],\n",
       "        [138, 132, 125, ..., 114, 122,  54],\n",
       "        ...,\n",
       "        [ 25,  27,  25, ...,  22,  32,  15],\n",
       "        [ 24,  23,  25, ...,  19,  25,  15],\n",
       "        [ 28,  27,  27, ...,  25,  25,  15]],\n",
       "\n",
       "       [[ 33,  32,  32, ...,  28,  65, 181],\n",
       "        [146, 140, 137, ..., 129, 133,  58],\n",
       "        [137, 131, 125, ..., 128, 132,  53],\n",
       "        ...,\n",
       "        [ 30,  28,  21, ...,  29,  31,  14],\n",
       "        [ 34,  31,  24, ...,  29,  29,  13],\n",
       "        [ 30,  29,  28, ...,  27,  28,  13]],\n",
       "\n",
       "       ...,\n",
       "\n",
       "       [[ 33,  31,  33, ...,  31,  70, 182],\n",
       "        [151, 142, 143, ..., 140, 169,  75],\n",
       "        [142, 142, 137, ..., 139, 163,  69],\n",
       "        ...,\n",
       "        [ 33,  33,  30, ...,  27,  25,  10],\n",
       "        [ 33,  33,  33, ...,  27,  26,  11],\n",
       "        [ 28,  30,  34, ...,  27,  30,  13]],\n",
       "\n",
       "       [[ 34,  31,  33, ...,  31,  70, 182],\n",
       "        [151, 143, 143, ..., 139, 169,  76],\n",
       "        [142, 142, 137, ..., 139, 163,  69],\n",
       "        ...,\n",
       "        [ 14,  16,  25, ...,  32,  36,  18],\n",
       "        [ 19,  23,  27, ...,  33,  41,  22],\n",
       "        [ 25,  26,  29, ...,  24,  28,  17]],\n",
       "\n",
       "       [[ 34,  31,  33, ...,  31,  70, 183],\n",
       "        [151, 143, 143, ..., 140, 169,  76],\n",
       "        [142, 143, 136, ..., 140, 162,  68],\n",
       "        ...,\n",
       "        [ 30,  30,  26, ...,  29,  37,  18],\n",
       "        [ 28,  29,  22, ...,  33,  43,  22],\n",
       "        [ 26,  27,  24, ...,  36,  42,  21]]], dtype=uint8)"
      ]
     },
     "execution_count": 14,
     "metadata": {},
     "output_type": "execute_result"
    }
   ],
   "source": []
  },
  {
   "cell_type": "code",
   "execution_count": 27,
   "metadata": {},
   "outputs": [],
   "source": [
    "path = \"C:/Users/Bugra/Desktop/masters-thesis/data/LAB_AL_G.nii\"\n",
    "img = nib.load(path)\n",
    "affine = img.affine\n",
    "\n",
    "leg_img_path = \"leg_data.nii.gz\"\n",
    "leg_conf_path = \"leg_conf.nii.gz\"\n",
    "\n",
    "# Read leg image\n",
    "leg_img = nib.load(leg_img_path)\n",
    "leg_img_data = leg_img.get_fdata()\n",
    "\n",
    "# Read leg config\n",
    "leg_conf = nib.load(leg_conf_path)\n",
    "leg_conf_data = leg_conf.get_fdata()\n",
    "\n",
    "if np.max(leg_conf_data) == 1:\n",
    "    leg_conf_data *= 255\n",
    "\n",
    "# Save them with the same affine\n",
    "leg_img = nib.Nifti1Image(leg_img_data, affine, header=img.header)\n",
    "leg_conf = nib.Nifti1Image(leg_conf_data, affine, header=img.header)\n",
    "\n",
    "nib.save(leg_img, leg_img_path)\n",
    "nib.save(leg_conf, leg_conf_path)"
   ]
  },
  {
   "cell_type": "code",
   "execution_count": 29,
   "metadata": {},
   "outputs": [
    {
     "name": "stdout",
     "output_type": "stream",
     "text": [
      "[[[1.         1.         1.         ... 1.         1.         1.        ]\n",
      "  [0.99997443 0.99997205 0.99997026 ... 0.98014516 0.98775399 0.99602377]\n",
      "  [0.99994916 0.99994445 0.99994063 ... 0.96123046 0.97617388 0.99228954]\n",
      "  ...\n",
      "  [0.13419192 0.11529994 0.10220107 ... 0.31902823 0.37293169 0.47762594]\n",
      "  [0.13160586 0.11299144 0.10005885 ... 0.31818327 0.37190199 0.47624221]\n",
      "  [0.12895252 0.11058798 0.0978179  ... 0.31718788 0.37069339 0.47461766]]\n",
      "\n",
      " [[1.         1.         1.         ... 1.         1.         1.        ]\n",
      "  [0.99997419 0.99997193 0.99997032 ... 0.98049754 0.98861915 0.99630994]\n",
      "  [0.9999488  0.99994421 0.99994105 ... 0.96192259 0.97739857 0.99300891]\n",
      "  ...\n",
      "  [0.13046663 0.11188418 0.0987448  ... 0.32534853 0.38137901 0.48903221]\n",
      "  [0.12787905 0.109551   0.09660061 ... 0.32440242 0.38021526 0.48746493]\n",
      "  [0.12528315 0.10718586 0.0943979  ... 0.32331103 0.37887985 0.48566958]]\n",
      "\n",
      " [[1.         1.         1.         ... 1.         1.         1.        ]\n",
      "  [0.99997395 0.99997181 0.99997056 ... 0.9807182  0.98918098 0.99669749]\n",
      "  [0.99994868 0.99994403 0.99994171 ... 0.96222967 0.97817242 0.9935981 ]\n",
      "  ...\n",
      "  [0.12608735 0.10790286 0.09534159 ... 0.33277225 0.38954893 0.50099403]\n",
      "  [0.12353707 0.10560758 0.09320848 ... 0.33176693 0.38828778 0.49929366]\n",
      "  [0.12097715 0.10329392 0.09106142 ... 0.33067393 0.38691625 0.49745104]]\n",
      "\n",
      " ...\n",
      "\n",
      " [[1.         1.         1.         ... 1.         1.         1.        ]\n",
      "  [0.99999088 0.99999118 0.9999913  ... 0.99862552 0.99893522 0.99963653]\n",
      "  [0.99998075 0.9999814  0.99998182 ... 0.99727887 0.99793231 0.99931377]\n",
      "  ...\n",
      "  [0.41099209 0.33601135 0.27441195 ... 0.36918649 0.4300532  0.50729311]\n",
      "  [0.40754649 0.33263209 0.2710377  ... 0.3544502  0.41217661 0.48542991]\n",
      "  [0.40471542 0.32991791 0.2683996  ... 0.33933893 0.39436236 0.46396518]]\n",
      "\n",
      " [[1.         1.         1.         ... 1.         1.         1.        ]\n",
      "  [0.99999017 0.99999046 0.99999058 ... 0.9987123  0.99903673 0.99965781]\n",
      "  [0.99997944 0.99998015 0.99998045 ... 0.99745697 0.9981243  0.99934757]\n",
      "  ...\n",
      "  [0.40744516 0.33328885 0.27191666 ... 0.35545266 0.41560918 0.48517218]\n",
      "  [0.40396729 0.32981992 0.26844516 ... 0.33843794 0.39492211 0.46019486]\n",
      "  [0.40107122 0.3270072  0.26571193 ... 0.32111108 0.37441829 0.4359439 ]]\n",
      "\n",
      " [[1.         1.         1.         ... 1.         1.         1.        ]\n",
      "  [0.99998939 0.99998969 0.99998987 ... 0.99879426 0.99911654 0.99967873]\n",
      "  [0.99997801 0.99997872 0.99997902 ... 0.99761337 0.99826664 0.99938208]\n",
      "  ...\n",
      "  [0.40447721 0.33058694 0.26978847 ... 0.34162128 0.40201309 0.46261713]\n",
      "  [0.40086082 0.32700479 0.26621836 ... 0.32229713 0.37873405 0.43502384]\n",
      "  [0.39792097 0.32408473 0.26337868 ... 0.30297318 0.35588875 0.40859765]]]\n"
     ]
    }
   ],
   "source": [
    "path = \"../liver_all_sweeps_confidence_maps.nii.gz\"\n",
    "img = nib.load(path)\n",
    "data = img.get_fdata()\n",
    "\n",
    "print(data)"
   ]
  },
  {
   "cell_type": "code",
   "execution_count": null,
   "metadata": {},
   "outputs": [],
   "source": []
  }
 ],
 "metadata": {
  "kernelspec": {
   "display_name": "Python 3 (ipykernel)",
   "language": "python",
   "name": "python3"
  },
  "language_info": {
   "codemirror_mode": {
    "name": "ipython",
    "version": 3
   },
   "file_extension": ".py",
   "mimetype": "text/x-python",
   "name": "python",
   "nbconvert_exporter": "python",
   "pygments_lexer": "ipython3",
   "version": "3.10.8"
  }
 },
 "nbformat": 4,
 "nbformat_minor": 2
}
