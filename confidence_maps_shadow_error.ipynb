{
 "cells": [
  {
   "cell_type": "code",
   "execution_count": 24,
   "metadata": {},
   "outputs": [],
   "source": [
    "import nibabel as nib\n",
    "import numpy as np"
   ]
  },
  {
   "cell_type": "code",
   "execution_count": 25,
   "metadata": {},
   "outputs": [],
   "source": [
    "image_paths = [\"data/images_liver.nii.gz\", \"data/images_spine.nii.gz\"]\n",
    "cm_paths = {\n",
    "    \"all\": [\"data/CMS/cms_all_liver.nii.gz\", \"data/CMS/cms_all_spine.nii.gz\"],\n",
    "    \"mid\": [\"data/CMS/cms_mid_liver.nii.gz\", \"data/CMS/cms_mid_spine.nii.gz\"],\n",
    "    \"min\": [\"data/CMS/cms_min_liver.nii.gz\", \"data/CMS/cms_min_spine.nii.gz\"],\n",
    "    \"ultranerf\": [\"data/CMS/cms_ultranerf_liver.nii.gz\", \"data/CMS/cms_ultranerf_spine.nii.gz\"],\n",
    "    \"acyclic\": [\"data/CMS/cms_acyclic_liver.nii.gz\", \"data/CMS/cms_acyclic_spine.nii.gz\"],\n",
    "}"
   ]
  },
  {
   "cell_type": "code",
   "execution_count": 52,
   "metadata": {},
   "outputs": [],
   "source": [
    "# Load images\n",
    "images = []\n",
    "for image_path in image_paths:\n",
    "    images.append(nib.load(image_path).get_fdata())\n",
    "\n",
    "# Load cms\n",
    "cms = {}\n",
    "\n",
    "for key, paths in cm_paths.items():\n",
    "    cms[key] = []\n",
    "    for path in paths:\n",
    "        cm = nib.load(path).get_fdata()\n",
    "\n",
    "        # Normalize\n",
    "        cm = cm - np.mean(cm)\n",
    "        cm = cm / np.std(cm)\n",
    "\n",
    "        # cm = cm - np.min(cm)\n",
    "        # cm = cm / np.max(cm)\n",
    "\n",
    "        cms[key].append(cm)\n"
   ]
  },
  {
   "cell_type": "code",
   "execution_count": 53,
   "metadata": {},
   "outputs": [
    {
     "name": "stdout",
     "output_type": "stream",
     "text": [
      "all\n",
      "(200, 512, 256)\n",
      "(152, 1300, 164)\n",
      "\n",
      "mid\n",
      "(200, 512, 256)\n",
      "(152, 1300, 164)\n",
      "\n",
      "min\n",
      "(200, 512, 256)\n",
      "(152, 1300, 164)\n",
      "\n",
      "ultranerf\n",
      "(200, 512, 256)\n",
      "(152, 1300, 164)\n",
      "\n",
      "acyclic\n",
      "(200, 512, 256)\n",
      "(152, 1300, 164)\n",
      "\n"
     ]
    }
   ],
   "source": [
    "# Print shapes of all\n",
    "for key, cm in cms.items():\n",
    "    print(key)\n",
    "    for i in range(len(cm)):\n",
    "        print(cm[i].shape)\n",
    "    print()"
   ]
  },
  {
   "cell_type": "code",
   "execution_count": 54,
   "metadata": {},
   "outputs": [
    {
     "name": "stdout",
     "output_type": "stream",
     "text": [
      "Data: liver, Confidence Map: all, Mean: -1.6778474713644558, Std: 2.9836466769987284\n",
      "Data: liver, Confidence Map: mid, Mean: -1.7761259804520424, Std: 3.1865416313383284\n",
      "Data: liver, Confidence Map: min, Mean: -1.6793170250812561, Std: 2.985613129174279\n",
      "Data: liver, Confidence Map: ultranerf, Mean: 0.6169145194160454, Std: 2.1368235220903404\n",
      "Data: liver, Confidence Map: acyclic, Mean: 1.0470731748327282, Std: 1.7716816495564747\n",
      "\n",
      "Data: spine, Confidence Map: all, Mean: -0.0013769839798483505, Std: 1.0088208087666068\n",
      "Data: spine, Confidence Map: mid, Mean: 0.0006255083917988734, Std: 1.0072223226931376\n",
      "Data: spine, Confidence Map: min, Mean: -0.0013575705521186958, Std: 1.008806437925811\n",
      "Data: spine, Confidence Map: ultranerf, Mean: 0.011733429181579694, Std: 1.003744961657238\n",
      "Data: spine, Confidence Map: acyclic, Mean: 0.008352338295065044, Std: 1.0104311934614079\n",
      "\n"
     ]
    }
   ],
   "source": [
    "# Calculate 0-value errors\n",
    "\n",
    "\n",
    "for data_idx, image in enumerate(images):\n",
    "\n",
    "    zero_mask = image < 10\n",
    "\n",
    "    for key, cm in cms.items():\n",
    "\n",
    "        curr_cm = cm[data_idx]\n",
    "\n",
    "        mean = curr_cm[zero_mask].mean()\n",
    "        std = curr_cm[zero_mask].std()\n",
    "\n",
    "        data_name = \"liver\" if data_idx == 0 else \"spine\"\n",
    "\n",
    "        print(f\"Data: {data_name}, Confidence Map: {key}, Mean: {mean}, Std: {std}\")\n",
    "    print()"
   ]
  },
  {
   "cell_type": "code",
   "execution_count": 55,
   "metadata": {},
   "outputs": [
    {
     "name": "stdout",
     "output_type": "stream",
     "text": [
      "Liver Label Shape: (200, 512, 256)\n"
     ]
    },
    {
     "data": {
      "image/png": "[encoded data removed]",
      "text/plain": [
       "<Figure size 640x480 with 1 Axes>"
      ]
     },
     "metadata": {},
     "output_type": "display_data"
    }
   ],
   "source": [
    "# Load Liver Labels\n",
    "\n",
    "label_path = \"data/liver_labels/l1.nii\"\n",
    "liver_label = nib.load(label_path).get_fdata()[..., 0, :]\n",
    "\n",
    "# Correct the orientation of the images\n",
    "liver_label = np.transpose(liver_label, (2, 0, 1))\n",
    "liver_label = np.transpose(liver_label, (0, 2, 1))\n",
    "\n",
    "# Crop the extra pixels\n",
    "liver_label = liver_label[:, :-4, :]\n",
    "print(f\"Liver Label Shape: {liver_label.shape}\")\n",
    "\n",
    "liver_bone_mask = liver_label == 13\n",
    "\n",
    "# Coordinates\n",
    "liver_bone_coords = np.where(liver_bone_mask)\n",
    "\n",
    "bone_bottoms = []\n",
    "shadow_mask = np.zeros(liver_bone_mask.shape, dtype=bool)\n",
    "\n",
    "for i in range(liver_bone_mask.shape[0]):\n",
    "    for j in range(liver_bone_mask.shape[2]):\n",
    "        line = liver_bone_mask[i, :, j]\n",
    "        if np.any(line):\n",
    "            bottom = np.where(line)[0][-1]\n",
    "            bone_bottoms.append((i, bottom, j))\n",
    "            shadow_mask[i, bottom:, j] = 1\n",
    "\n",
    "bone_bottoms = np.array(bone_bottoms)\n",
    "\n",
    "\n",
    "# Plot the bone bottoms on labels\n",
    "import matplotlib.pyplot as plt\n",
    "\n",
    "slice = 54\n",
    "plt.imshow(liver_bone_mask[slice, :, :], cmap=\"gray\")\n",
    "plt.scatter(np.where(shadow_mask[slice])[1], np.where(shadow_mask[slice])[0], c=\"b\", s=1)\n",
    "plt.scatter(bone_bottoms[ bone_bottoms[:, 0] == slice, 2], bone_bottoms[ bone_bottoms[:, 0] == slice, 1], c=\"r\", s=1)\n",
    "\n",
    "plt.show()"
   ]
  },
  {
   "cell_type": "code",
   "execution_count": 56,
   "metadata": {},
   "outputs": [
    {
     "name": "stdout",
     "output_type": "stream",
     "text": [
      "Data Liver, Confidence Map: all, Mean: -0.16931338710693558, Std: 1.2082084740088548\n",
      "Data Liver, Confidence Map: mid, Mean: -0.16471339459498713, Std: 1.1890342578452449\n",
      "Data Liver, Confidence Map: min, Mean: -0.16916493467785398, Std: 1.207914166289203\n",
      "Data Liver, Confidence Map: ultranerf, Mean: -1.1409649285986119, Std: 0.4700301815857014\n",
      "Data Liver, Confidence Map: acyclic, Mean: -0.6206757556369878, Std: 0.5951748792683769\n",
      "\n"
     ]
    }
   ],
   "source": [
    "# Calculate the mean and std of the confidence maps\n",
    "\n",
    "for key, cm in cms.items():\n",
    "    \n",
    "        curr_cm = cm[0]\n",
    "\n",
    "        mean = curr_cm[shadow_mask].mean()\n",
    "        std = curr_cm[shadow_mask].std()\n",
    "\n",
    "        print(f\"Data Liver, Confidence Map: {key}, Mean: {mean}, Std: {std}\")\n",
    "print()"
   ]
  },
  {
   "cell_type": "code",
   "execution_count": 57,
   "metadata": {},
   "outputs": [
    {
     "name": "stdout",
     "output_type": "stream",
     "text": [
      "Data Liver, Confidence Map: all, Min: -6.822958641499335, Max: 1.3684999181580377\n",
      "Data Liver, Confidence Map: mid, Min: -7.49636304582791, Max: 1.4679357688143235\n",
      "Data Liver, Confidence Map: min, Min: -6.828717096392547, Max: 1.2083779640197219\n",
      "Data Liver, Confidence Map: ultranerf, Min: -2.1695016163620267, Max: 2.5222041566240714\n",
      "Data Liver, Confidence Map: acyclic, Min: -1.4604808495118906, Max: 2.7671072760799453\n"
     ]
    }
   ],
   "source": [
    "# Print min and max of the confidence maps\n",
    "\n",
    "for key, cm in cms.items():\n",
    "        \n",
    "        curr_cm = cm[0]\n",
    "\n",
    "        min = curr_cm.min()\n",
    "        max = curr_cm.max()\n",
    "\n",
    "        print(f\"Data Liver, Confidence Map: {key}, Min: {min}, Max: {max}\")"
   ]
  },
  {
   "cell_type": "code",
   "execution_count": null,
   "metadata": {},
   "outputs": [],
   "source": []
  },
  {
   "cell_type": "code",
   "execution_count": null,
   "metadata": {},
   "outputs": [],
   "source": []
  }
 ],
 "metadata": {
  "kernelspec": {
   "display_name": "Python 3 (ipykernel)",
   "language": "python",
   "name": "python3"
  },
  "language_info": {
   "codemirror_mode": {
    "name": "ipython",
    "version": 3
   },
   "file_extension": ".py",
   "mimetype": "text/x-python",
   "name": "python",
   "nbconvert_exporter": "python",
   "pygments_lexer": "ipython3",
   "version": "3.10.8"
  }
 },
 "nbformat": 4,
 "nbformat_minor": 2
}
