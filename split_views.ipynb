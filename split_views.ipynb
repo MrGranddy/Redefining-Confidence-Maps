{
 "cells": [
  {
   "cell_type": "code",
   "execution_count": 1,
   "metadata": {},
   "outputs": [],
   "source": [
    "import numpy as np\n",
    "import nibabel as nib\n",
    "\n",
    "import os\n",
    "import shutil\n",
    "\n",
    "from utils import read_tracking, write_tracking"
   ]
  },
  {
   "cell_type": "code",
   "execution_count": 2,
   "metadata": {},
   "outputs": [],
   "source": [
    "config = {\n",
    "    \"spine\": {\n",
    "        \"images\": \"C:/Users/Bugra/Desktop/masters-thesis/spine_all_sweeps.nii.gz\",\n",
    "        \"ultranerf\": \"C:/Users/Bugra/Desktop/masters-thesis/spine_all_sweeps_conf.nii.gz\",\n",
    "        \"tracking\": \"C:/Users/Bugra/Desktop/masters-thesis/spine_all_sweeps_tracking.csv\",\n",
    "    },\n",
    "    \"liver\": {\n",
    "        \"images\": \"C:/Users/Bugra/Desktop/masters-thesis/liver_all_sweeps.nii.gz\",\n",
    "        \"ultranerf\": \"C:/Users/Bugra/Desktop/masters-thesis/liver_all_sweeps_conf.nii.gz\",\n",
    "        \"tracking\": \"C:/Users/Bugra/Desktop/masters-thesis/liver_all_sweeps_tracking.csv\",\n",
    "    },\n",
    "    \"leg\": {\n",
    "        \"images\": \"C:/Users/Bugra/Desktop/masters-thesis/leg_data.nii.gz\",\n",
    "        \"ultranerf\": \"C:/Users/Bugra/Desktop/masters-thesis/leg_conf.nii.gz\",\n",
    "        \"tracking\": \"C:/Users/Bugra/Desktop/masters-thesis/leg_tracking.csv\",\n",
    "    },\n",
    "}"
   ]
  },
  {
   "cell_type": "code",
   "execution_count": 3,
   "metadata": {},
   "outputs": [],
   "source": [
    "splits = {\n",
    "    \"spine\": [0, 159, 313, 465, 618, 769, 921, 1067, 1217, 1370, 1534, 1682, 1823, 1975, 2123, 2253, 2389],\n",
    "    \"liver\": [0, 200, 400, 600, 800, 1000, 1200],\n",
    "    \"leg\": [0, 361, 822, 1151, 1441, 1714],\n",
    "}"
   ]
  },
  {
   "cell_type": "code",
   "execution_count": 4,
   "metadata": {},
   "outputs": [],
   "source": [
    "dest_dir = \"07032024\"\n",
    "os.makedirs(dest_dir, exist_ok=True)"
   ]
  },
  {
   "cell_type": "code",
   "execution_count": 5,
   "metadata": {},
   "outputs": [
    {
     "name": "stdout",
     "output_type": "stream",
     "text": [
      "Processing spine\n",
      "images.shape=(164, 1300, 2389)\n",
      "ultranerf.shape=(164, 1300, 2389)\n",
      "tracking.shape=(2389, 4, 4)\n",
      "0 159\n",
      "159 313\n",
      "313 465\n",
      "465 618\n",
      "618 769\n",
      "769 921\n",
      "921 1067\n",
      "1067 1217\n",
      "1217 1370\n",
      "1370 1534\n",
      "1534 1682\n",
      "1682 1823\n",
      "1823 1975\n",
      "1975 2123\n",
      "2123 2253\n",
      "2253 2389\n",
      "Processing liver\n",
      "images.shape=(256, 516, 1200)\n",
      "ultranerf.shape=(256, 516, 1200)\n",
      "tracking.shape=(1200, 4, 4)\n",
      "0 200\n",
      "200 400\n",
      "400 600\n",
      "600 800\n",
      "800 1000\n",
      "1000 1200\n",
      "Processing leg\n",
      "images.shape=(221, 537, 1714)\n",
      "ultranerf.shape=(221, 537, 1501)\n",
      "tracking.shape=(1714, 4, 4)\n",
      "0 361\n",
      "361 822\n",
      "822 1151\n",
      "1151 1441\n",
      "1441 1714\n"
     ]
    }
   ],
   "source": [
    "for key, value in config.items():\n",
    "    images = nib.load(value[\"images\"])\n",
    "    ultranerf = nib.load(value[\"ultranerf\"])\n",
    "    tracking = read_tracking(value[\"tracking\"])\n",
    "\n",
    "    print(f\"Processing {key}\")\n",
    "    print(f\"{images.shape=}\")\n",
    "    print(f\"{ultranerf.shape=}\")\n",
    "    print(f\"{tracking.shape=}\")\n",
    "\n",
    "    key_dir = os.path.join(dest_dir, key)\n",
    "    if os.path.exists(key_dir):\n",
    "        shutil.rmtree(key_dir)\n",
    "    os.makedirs(key_dir)\n",
    "\n",
    "    for i in range(len(splits[key]) - 1):\n",
    "        start = splits[key][i]\n",
    "        end = splits[key][i + 1]\n",
    "        print(start, end)\n",
    "\n",
    "        images_split = images.get_fdata()[:, :, start:end]\n",
    "        ultranerf_split = ultranerf.get_fdata()[:, :, start:end]\n",
    "        tracking_split = tracking[start:end]\n",
    "\n",
    "        images_split = images_split.astype(np.uint8)\n",
    "        ultranerf_split = (ultranerf_split * 255).astype(np.uint8)\n",
    "\n",
    "        images_split = nib.Nifti1Image(images_split, images.affine)\n",
    "        ultranerf_split = nib.Nifti1Image(ultranerf_split, ultranerf.affine)\n",
    "\n",
    "        nib.save(images_split, os.path.join(key_dir, f\"{i}_images.nii.gz\"))\n",
    "        nib.save(ultranerf_split, os.path.join(key_dir, f\"{i}_ultranerf.nii.gz\"))\n",
    "        write_tracking(os.path.join(key_dir, f\"{i}_tracking.csv\"), tracking_split)"
   ]
  },
  {
   "cell_type": "code",
   "execution_count": null,
   "metadata": {},
   "outputs": [],
   "source": []
  }
 ],
 "metadata": {
  "kernelspec": {
   "display_name": "Python 3",
   "language": "python",
   "name": "python3"
  },
  "language_info": {
   "codemirror_mode": {
    "name": "ipython",
    "version": 3
   },
   "file_extension": ".py",
   "mimetype": "text/x-python",
   "name": "python",
   "nbconvert_exporter": "python",
   "pygments_lexer": "ipython3",
   "version": "3.10.8"
  }
 },
 "nbformat": 4,
 "nbformat_minor": 2
}
