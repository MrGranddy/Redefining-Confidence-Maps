{
 "cells": [
  {
   "cell_type": "code",
   "execution_count": 1,
   "metadata": {},
   "outputs": [],
   "source": [
    "import numpy as np\n",
    "\n",
    "import nibabel as nib\n",
    "\n",
    "from utils import read_tracking, write_tracking"
   ]
  },
  {
   "cell_type": "code",
   "execution_count": 2,
   "metadata": {},
   "outputs": [],
   "source": [
    "leg_paths = {\n",
    "    \"data\": \"leg/leg_data.nii.gz\",\n",
    "    \"conf\": \"leg/leg_conf.nii.gz\",\n",
    "    \"tracking\": \"leg/leg_tracking.csv\",\n",
    "}\n",
    "\n",
    "liver_paths = {\n",
    "    \"data\": \"liver/liver_all_sweeps_images.nii.gz\",\n",
    "    \"conf\": \"liver/liver_all_sweeps_confidence_maps.nii.gz\",\n",
    "    \"tracking\": \"liver/liver_all_sweeps_tracking.csv\",\n",
    "}\n",
    "\n",
    "spine_paths = {\n",
    "    \"data\": \"spine/spine_all_sweeps.nii.gz\",\n",
    "    \"conf\": \"spine/spine_all_sweeps_conf.nii.gz\",\n",
    "    \"tracking\": \"spine/spine_all_sweeps_tracking.csv\",\n",
    "}"
   ]
  },
  {
   "cell_type": "code",
   "execution_count": 3,
   "metadata": {},
   "outputs": [],
   "source": [
    "leg = {\n",
    "    \"data\": nib.load(leg_paths[\"data\"]).get_fdata(),\n",
    "    \"conf\": nib.load(leg_paths[\"conf\"]).get_fdata(),\n",
    "    \"tracking\": read_tracking(leg_paths[\"tracking\"]),\n",
    "}\n",
    "\n",
    "liver = {\n",
    "    \"data\": nib.load(liver_paths[\"data\"]).get_fdata(),\n",
    "    \"conf\": nib.load(liver_paths[\"conf\"]).get_fdata(),\n",
    "    \"tracking\": read_tracking(liver_paths[\"tracking\"]),\n",
    "}\n",
    "\n",
    "spine = {\n",
    "    \"data\": nib.load(spine_paths[\"data\"]).get_fdata(),\n",
    "    \"conf\": nib.load(spine_paths[\"conf\"]).get_fdata(),\n",
    "    \"tracking\": read_tracking(spine_paths[\"tracking\"]),\n",
    "}"
   ]
  },
  {
   "cell_type": "code",
   "execution_count": 4,
   "metadata": {},
   "outputs": [
    {
     "name": "stdout",
     "output_type": "stream",
     "text": [
      "Leg data shape: (221, 537, 1714)\n",
      "Leg confidence shape: (221, 537, 1714)\n",
      "Leg tracking shape: (1714, 4, 4)\n",
      "Liver data shape: (1200, 512, 256)\n",
      "Liver confidence shape: (1200, 512, 256)\n",
      "Liver tracking shape: (1200, 4, 4)\n",
      "Spine data shape: (164, 1300, 1341)\n",
      "Spine confidence shape: (164, 1300, 1341)\n",
      "Spine tracking shape: (1341, 4, 4)\n"
     ]
    }
   ],
   "source": [
    "# Print all shapes\n",
    "\n",
    "print(\"Leg data shape:\", leg[\"data\"].shape)\n",
    "print(\"Leg confidence shape:\", leg[\"conf\"].shape)\n",
    "print(\"Leg tracking shape:\", leg[\"tracking\"].shape)\n",
    "\n",
    "print(\"Liver data shape:\", liver[\"data\"].shape)\n",
    "print(\"Liver confidence shape:\", liver[\"conf\"].shape)\n",
    "print(\"Liver tracking shape:\", liver[\"tracking\"].shape)\n",
    "\n",
    "print(\"Spine data shape:\", spine[\"data\"].shape)\n",
    "print(\"Spine confidence shape:\", spine[\"conf\"].shape)\n",
    "print(\"Spine tracking shape:\", spine[\"tracking\"].shape)"
   ]
  },
  {
   "cell_type": "code",
   "execution_count": 5,
   "metadata": {},
   "outputs": [],
   "source": [
    "# Liver is in reverse order, we are going to fix that, if that is not the case for you comment this out\n",
    "\n",
    "liver[\"data\"] = np.swapaxes(liver[\"data\"], 0, 1)\n",
    "liver[\"data\"] = np.swapaxes(liver[\"data\"], 1, 2)\n",
    "liver[\"data\"] = np.swapaxes(liver[\"data\"], 0, 1)\n",
    "\n",
    "liver[\"conf\"] = np.swapaxes(liver[\"conf\"], 0, 1)\n",
    "liver[\"conf\"] = np.swapaxes(liver[\"conf\"], 1, 2)\n",
    "liver[\"conf\"] = np.swapaxes(liver[\"conf\"], 0, 1)"
   ]
  },
  {
   "cell_type": "code",
   "execution_count": 6,
   "metadata": {},
   "outputs": [
    {
     "name": "stdout",
     "output_type": "stream",
     "text": [
      "Leg data shape: (221, 537, 1714)\n",
      "Leg confidence shape: (221, 537, 1714)\n",
      "Leg tracking shape: (1714, 4, 4)\n",
      "Liver data shape: (256, 512, 1200)\n",
      "Liver confidence shape: (256, 512, 1200)\n",
      "Liver tracking shape: (1200, 4, 4)\n",
      "Spine data shape: (164, 1300, 1341)\n",
      "Spine confidence shape: (164, 1300, 1341)\n",
      "Spine tracking shape: (1341, 4, 4)\n"
     ]
    }
   ],
   "source": [
    "# Print all shapes\n",
    "\n",
    "print(\"Leg data shape:\", leg[\"data\"].shape)\n",
    "print(\"Leg confidence shape:\", leg[\"conf\"].shape)\n",
    "print(\"Leg tracking shape:\", leg[\"tracking\"].shape)\n",
    "\n",
    "print(\"Liver data shape:\", liver[\"data\"].shape)\n",
    "print(\"Liver confidence shape:\", liver[\"conf\"].shape)\n",
    "print(\"Liver tracking shape:\", liver[\"tracking\"].shape)\n",
    "\n",
    "print(\"Spine data shape:\", spine[\"data\"].shape)\n",
    "print(\"Spine confidence shape:\", spine[\"conf\"].shape)\n",
    "print(\"Spine tracking shape:\", spine[\"tracking\"].shape)"
   ]
  },
  {
   "cell_type": "code",
   "execution_count": 7,
   "metadata": {},
   "outputs": [],
   "source": [
    "# Write min max and type of each array\n",
    "\n",
    "for d in [leg, liver, spine]:\n",
    "\n",
    "    for k in [\"data\", \"conf\"]:\n",
    "\n",
    "        # if float and max is close to 255, convert to uint8\n",
    "        # if float and max is close to 1.0, multiply by 255 and convert to uint8\n",
    "\n",
    "        if d[k].dtype == np.float64 or d[k].dtype == np.float32:\n",
    "\n",
    "            if np.isclose(np.max(d[k]), 255.0):\n",
    "                d[k] = d[k].astype(np.uint8)\n",
    "            elif np.isclose(np.max(d[k]), 1.0):\n",
    "                d[k] = (d[k] * 255).astype(np.uint8)"
   ]
  },
  {
   "cell_type": "code",
   "execution_count": 8,
   "metadata": {},
   "outputs": [
    {
     "name": "stdout",
     "output_type": "stream",
     "text": [
      "data uint8 0 255\n",
      "conf uint8 17 255\n",
      "data uint8 0 255\n",
      "conf uint8 5 255\n",
      "data uint8 0 255\n",
      "conf uint8 0 255\n"
     ]
    }
   ],
   "source": [
    "# Print type and min max values\n",
    "\n",
    "for d in [leg, liver, spine]:\n",
    "    \n",
    "        for k in [\"data\", \"conf\"]:\n",
    "    \n",
    "            print(k, d[k].dtype, np.min(d[k]), np.max(d[k]))"
   ]
  },
  {
   "cell_type": "code",
   "execution_count": 11,
   "metadata": {},
   "outputs": [],
   "source": [
    "# pixdims\n",
    "leg_pixdim = [1., 0.172336, 0.172780, 1., 1., 1., 1., 1.]\n",
    "liver_pixdim = [1., 0.3125, 0.271318, 1., 1., 1., 1., 1.]\n",
    "spine_pixdim = [1., 0.228264, 0.076923, 1., 1., 1., 1., 1.]"
   ]
  },
  {
   "cell_type": "code",
   "execution_count": 12,
   "metadata": {},
   "outputs": [],
   "source": [
    "# Save data and conf to same directories for each, add refined to the name\n",
    "\n",
    "for d, p, pixdim in zip([leg, liver, spine], [leg_paths, liver_paths, spine_paths], [leg_pixdim, liver_pixdim, spine_pixdim]):\n",
    "\n",
    "    nii_data = nib.Nifti1Image(d[\"data\"], np.eye(4))\n",
    "    nii_data.header[\"pixdim\"] = pixdim\n",
    "    nib.save(nii_data, p[\"data\"].replace(\".nii.gz\", \"_refined.nii.gz\"))\n",
    "\n",
    "    nii_conf = nib.Nifti1Image(d[\"conf\"], np.eye(4))\n",
    "    nii_conf.header[\"pixdim\"] = pixdim\n",
    "    nib.save(nii_conf, p[\"conf\"].replace(\".nii.gz\", \"_refined.nii.gz\"))"
   ]
  },
  {
   "cell_type": "code",
   "execution_count": 13,
   "metadata": {},
   "outputs": [
    {
     "name": "stdout",
     "output_type": "stream",
     "text": [
      "<class 'nibabel.nifti1.Nifti1Header'> object, endian='<'\n",
      "sizeof_hdr      : 348\n",
      "data_type       : b''\n",
      "db_name         : b''\n",
      "extents         : 0\n",
      "session_error   : 0\n",
      "regular         : b''\n",
      "dim_info        : 0\n",
      "dim             : [   3  164 1300 1341    1    1    1    1]\n",
      "intent_p1       : 0.0\n",
      "intent_p2       : 0.0\n",
      "intent_p3       : 0.0\n",
      "intent_code     : none\n",
      "datatype        : uint8\n",
      "bitpix          : 8\n",
      "slice_start     : 0\n",
      "pixdim          : [1.       0.228264 0.076923 1.       1.       1.       1.       1.      ]\n",
      "vox_offset      : 0.0\n",
      "scl_slope       : nan\n",
      "scl_inter       : nan\n",
      "slice_end       : 0\n",
      "slice_code      : unknown\n",
      "xyzt_units      : 0\n",
      "cal_max         : 0.0\n",
      "cal_min         : 0.0\n",
      "slice_duration  : 0.0\n",
      "toffset         : 0.0\n",
      "glmax           : 0\n",
      "glmin           : 0\n",
      "descrip         : b''\n",
      "aux_file        : b''\n",
      "qform_code      : unknown\n",
      "sform_code      : aligned\n",
      "quatern_b       : 0.0\n",
      "quatern_c       : 0.0\n",
      "quatern_d       : 0.0\n",
      "qoffset_x       : 0.0\n",
      "qoffset_y       : 0.0\n",
      "qoffset_z       : 0.0\n",
      "srow_x          : [1. 0. 0. 0.]\n",
      "srow_y          : [0. 1. 0. 0.]\n",
      "srow_z          : [0. 0. 1. 0.]\n",
      "intent_name     : b''\n",
      "magic           : b'n+1'\n"
     ]
    }
   ],
   "source": [
    "print(nii_data.header)"
   ]
  },
  {
   "cell_type": "code",
   "execution_count": null,
   "metadata": {},
   "outputs": [],
   "source": []
  }
 ],
 "metadata": {
  "kernelspec": {
   "display_name": "Python 3 (ipykernel)",
   "language": "python",
   "name": "python3"
  }
 },
 "nbformat": 4,
 "nbformat_minor": 2
}
