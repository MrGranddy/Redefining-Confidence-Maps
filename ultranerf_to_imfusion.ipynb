{
 "cells": [
  {
   "cell_type": "code",
   "execution_count": 4,
   "metadata": {},
   "outputs": [],
   "source": [
    "import nibabel as nib"
   ]
  },
  {
   "cell_type": "code",
   "execution_count": 5,
   "metadata": {},
   "outputs": [],
   "source": [
    "image_path = \"C:/Users/Bugra/Desktop/masters-thesis/spine_all_sweeps.nii.gz\"\n",
    "conf_path = \"C:/Users/Bugra/Desktop/masters-thesis/spine_all_sweeps_conf.nii.gz\""
   ]
  },
  {
   "cell_type": "code",
   "execution_count": 6,
   "metadata": {},
   "outputs": [],
   "source": [
    "image = nib.load(image_path).get_fdata()\n",
    "conf = nib.load(conf_path).get_fdata()"
   ]
  },
  {
   "cell_type": "code",
   "execution_count": 7,
   "metadata": {},
   "outputs": [
    {
     "name": "stdout",
     "output_type": "stream",
     "text": [
      "Image shape: (164, 1300, 2389)\n",
      "Conf shape: (164, 1300, 2389)\n"
     ]
    }
   ],
   "source": [
    "print(f\"Image shape: {image.shape}\")\n",
    "print(f\"Conf shape: {conf.shape}\")"
   ]
  },
  {
   "cell_type": "code",
   "execution_count": 8,
   "metadata": {},
   "outputs": [],
   "source": [
    "# swap axis 1 and 2\n",
    "# image = image.transpose(0, 2, 1)\n",
    "# conf = conf.transpose(0, 2, 1)\n",
    "\n",
    "# Convert image and conf to uint8\n",
    "\n",
    "image = image.astype('uint8')\n",
    "conf = (conf * 255).astype('uint8')\n",
    "\n",
    "# Save both\n",
    "\n",
    "nib.save(nib.Nifti1Image(image, affine=nib.load(image_path).affine), image_path.replace(\".nii.gz\", \"_im.nii.gz\"))\n",
    "nib.save(nib.Nifti1Image(conf, affine=nib.load(conf_path).affine), conf_path.replace(\".nii.gz\", \"_im.nii.gz\"))"
   ]
  },
  {
   "cell_type": "code",
   "execution_count": null,
   "metadata": {},
   "outputs": [],
   "source": []
  }
 ],
 "metadata": {
  "kernelspec": {
   "display_name": "Python 3 (ipykernel)",
   "language": "python",
   "name": "python3"
  },
  "language_info": {
   "codemirror_mode": {
    "name": "ipython",
    "version": 3
   },
   "file_extension": ".py",
   "mimetype": "text/x-python",
   "name": "python",
   "nbconvert_exporter": "python",
   "pygments_lexer": "ipython3",
   "version": "3.10.8"
  }
 },
 "nbformat": 4,
 "nbformat_minor": 2
}
