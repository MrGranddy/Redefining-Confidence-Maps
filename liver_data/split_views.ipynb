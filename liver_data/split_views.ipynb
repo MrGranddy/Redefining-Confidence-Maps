{
 "cells": [
  {
   "cell_type": "code",
   "execution_count": 1,
   "metadata": {},
   "outputs": [],
   "source": [
    "import os\n",
    "import shutil\n",
    "\n",
    "from PIL import Image\n",
    "import numpy as np\n",
    "\n",
    "import nibabel as nib\n",
    "\n",
    "from utils import read_tracking, write_tracking"
   ]
  },
  {
   "cell_type": "code",
   "execution_count": 2,
   "metadata": {},
   "outputs": [],
   "source": [
    "main_path = \"C:/Users/Bugra/Desktop/masters-thesis/liver_data\"\n",
    "views = [\"l1\", \"l2\", \"l3\", \"r1\", \"r2\", \"r3\"]\n",
    "\n",
    "image_path = \"C:/Users/Bugra/Desktop/masters-thesis/liver_all_sweeps_im.nii.gz\"\n",
    "confidence_path = \"C:/Users/Bugra/Desktop/masters-thesis/liver_all_sweeps_conf_im.nii.gz\"\n",
    "tracking_path = \"C:/Users/Bugra/Desktop/masters-thesis/liver_all_sweeps_tracking.csv\"\n",
    "\n",
    "views_path = os.path.join(main_path, \"views\")"
   ]
  },
  {
   "cell_type": "code",
   "execution_count": 3,
   "metadata": {},
   "outputs": [
    {
     "name": "stdout",
     "output_type": "stream",
     "text": [
      "l1 shape: (200, 4, 4)\n",
      "l2 shape: (200, 4, 4)\n",
      "l3 shape: (200, 4, 4)\n",
      "r1 shape: (200, 4, 4)\n",
      "r2 shape: (200, 4, 4)\n",
      "r3 shape: (200, 4, 4)\n"
     ]
    }
   ],
   "source": [
    "# Read view trackings for deciding number of slices for each view\n",
    "org_view_trackings = []\n",
    "for view in views:\n",
    "    org_view_trackings.append(read_tracking(os.path.join(main_path, view + \".ts\")))\n",
    "\n",
    "# Print shapes of views\n",
    "for i, view in enumerate(views):\n",
    "    print(f\"{view} shape: {org_view_trackings[i].shape}\")\n"
   ]
  },
  {
   "cell_type": "code",
   "execution_count": 4,
   "metadata": {},
   "outputs": [
    {
     "name": "stdout",
     "output_type": "stream",
     "text": [
      "image max: 255, min: 0\n",
      "confidence max: 255, min: 17\n",
      "tracking max: 82.98933410644531, min: -48.94563674926758\n",
      "image shape: (256, 516, 1200)\n",
      "confidence shape: (256, 516, 1200)\n",
      "tracking shape: (1200, 4, 4)\n"
     ]
    }
   ],
   "source": [
    "# Read main image, confidence and tracking\n",
    "image = nib.load(image_path).get_fdata().astype(np.uint8)\n",
    "confidence = nib.load(confidence_path).get_fdata().astype(np.uint8)\n",
    "tracking = read_tracking(tracking_path)\n",
    "\n",
    "# Print max and min values of main image, confidence and tracking\n",
    "print(f\"image max: {np.max(image)}, min: {np.min(image)}\")\n",
    "print(f\"confidence max: {np.max(confidence)}, min: {np.min(confidence)}\")\n",
    "print(f\"tracking max: {np.max(tracking)}, min: {np.min(tracking)}\")\n",
    "\n",
    "# Print shapes of main image, confidence and tracking\n",
    "print(f\"image shape: {image.shape}\")\n",
    "print(f\"confidence shape: {confidence.shape}\")\n",
    "print(f\"tracking shape: {tracking.shape}\")\n",
    "\n",
    "# Split them into views, make sure to keep all metadata for nib files\n",
    "view_images = []\n",
    "view_confidences = []\n",
    "view_trackings = []\n",
    "\n",
    "start_idx = 0\n",
    "\n",
    "for i, view in enumerate(views):\n",
    "\n",
    "    end_idx = start_idx + org_view_trackings[i].shape[0]\n",
    "\n",
    "    view_images.append(image[..., start_idx:end_idx])\n",
    "    view_confidences.append(confidence[..., start_idx:end_idx])\n",
    "    view_trackings.append(tracking[start_idx:end_idx])\n",
    "\n",
    "    start_idx = end_idx\n"
   ]
  },
  {
   "cell_type": "code",
   "execution_count": 5,
   "metadata": {},
   "outputs": [
    {
     "name": "stdout",
     "output_type": "stream",
     "text": [
      "Saved l1 image to C:/Users/Bugra/Desktop/masters-thesis/liver_data\\views\\l1_im.nii.gz\n",
      "Saved l1 confidence to C:/Users/Bugra/Desktop/masters-thesis/liver_data\\views\\l1_conf_im.nii.gz\n",
      "Saved l1 tracking to C:/Users/Bugra/Desktop/masters-thesis/liver_data\\views\\l1_tracking.csv\n",
      "Saved l2 image to C:/Users/Bugra/Desktop/masters-thesis/liver_data\\views\\l2_im.nii.gz\n",
      "Saved l2 confidence to C:/Users/Bugra/Desktop/masters-thesis/liver_data\\views\\l2_conf_im.nii.gz\n",
      "Saved l2 tracking to C:/Users/Bugra/Desktop/masters-thesis/liver_data\\views\\l2_tracking.csv\n",
      "Saved l3 image to C:/Users/Bugra/Desktop/masters-thesis/liver_data\\views\\l3_im.nii.gz\n",
      "Saved l3 confidence to C:/Users/Bugra/Desktop/masters-thesis/liver_data\\views\\l3_conf_im.nii.gz\n",
      "Saved l3 tracking to C:/Users/Bugra/Desktop/masters-thesis/liver_data\\views\\l3_tracking.csv\n",
      "Saved r1 image to C:/Users/Bugra/Desktop/masters-thesis/liver_data\\views\\r1_im.nii.gz\n",
      "Saved r1 confidence to C:/Users/Bugra/Desktop/masters-thesis/liver_data\\views\\r1_conf_im.nii.gz\n",
      "Saved r1 tracking to C:/Users/Bugra/Desktop/masters-thesis/liver_data\\views\\r1_tracking.csv\n",
      "Saved r2 image to C:/Users/Bugra/Desktop/masters-thesis/liver_data\\views\\r2_im.nii.gz\n",
      "Saved r2 confidence to C:/Users/Bugra/Desktop/masters-thesis/liver_data\\views\\r2_conf_im.nii.gz\n",
      "Saved r2 tracking to C:/Users/Bugra/Desktop/masters-thesis/liver_data\\views\\r2_tracking.csv\n",
      "Saved r3 image to C:/Users/Bugra/Desktop/masters-thesis/liver_data\\views\\r3_im.nii.gz\n",
      "Saved r3 confidence to C:/Users/Bugra/Desktop/masters-thesis/liver_data\\views\\r3_conf_im.nii.gz\n",
      "Saved r3 tracking to C:/Users/Bugra/Desktop/masters-thesis/liver_data\\views\\r3_tracking.csv\n"
     ]
    }
   ],
   "source": [
    "# Create new views directory\n",
    "if os.path.exists(views_path):\n",
    "    shutil.rmtree(views_path)\n",
    "os.makedirs(views_path)\n",
    "\n",
    "# Save views\n",
    "\n",
    "for i, view in enumerate(views):\n",
    "    view_image_path = os.path.join(views_path, view + \"_im.nii.gz\")\n",
    "    view_confidence_path = os.path.join(views_path, view + \"_conf_im.nii.gz\")\n",
    "    view_tracking_path = os.path.join(views_path, view + \"_tracking.csv\")\n",
    "\n",
    "    nib.save(nib.Nifti1Image(view_images[i], np.eye(4)), view_image_path)\n",
    "    nib.save(nib.Nifti1Image(view_confidences[i], np.eye(4)), view_confidence_path)\n",
    "    write_tracking(view_tracking_path, view_trackings[i])\n",
    "\n",
    "    print(f\"Saved {view} image to {view_image_path}\")\n",
    "    print(f\"Saved {view} confidence to {view_confidence_path}\")\n",
    "    print(f\"Saved {view} tracking to {view_tracking_path}\")\n"
   ]
  },
  {
   "cell_type": "code",
   "execution_count": null,
   "metadata": {},
   "outputs": [],
   "source": []
  }
 ],
 "metadata": {
  "kernelspec": {
   "display_name": "Python 3 (ipykernel)",
   "language": "python",
   "name": "python3"
  },
  "language_info": {
   "codemirror_mode": {
    "name": "ipython",
    "version": 3
   },
   "file_extension": ".py",
   "mimetype": "text/x-python",
   "name": "python",
   "nbconvert_exporter": "python",
   "pygments_lexer": "ipython3",
   "version": "3.10.8"
  }
 },
 "nbformat": 4,
 "nbformat_minor": 2
}
