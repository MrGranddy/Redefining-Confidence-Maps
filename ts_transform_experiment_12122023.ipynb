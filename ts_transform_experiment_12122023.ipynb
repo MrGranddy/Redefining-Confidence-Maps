{
 "cells": [
  {
   "cell_type": "code",
   "execution_count": 17,
   "metadata": {},
   "outputs": [],
   "source": [
    "import math\n",
    "\n",
    "import numpy as np\n",
    "\n",
    "from generate_nerf_data_utils import read_ts, ts_to_poses"
   ]
  },
  {
   "cell_type": "code",
   "execution_count": 18,
   "metadata": {},
   "outputs": [],
   "source": [
    "ts_path = \"pen_ol.ts\""
   ]
  },
  {
   "cell_type": "code",
   "execution_count": 19,
   "metadata": {},
   "outputs": [],
   "source": [
    "ts = read_ts(ts_path)\n",
    "poses = ts_to_poses(ts)"
   ]
  },
  {
   "cell_type": "code",
   "execution_count": 20,
   "metadata": {},
   "outputs": [],
   "source": [
    "def create_linear_transform(x_translation, y_translation, z_translation, x_rotation, y_rotation, z_rotation):\n",
    "    \"\"\"Creates a linear transformation from the given parameters.\n",
    "\n",
    "    Args:\n",
    "        x_translation (float): The x translation.\n",
    "        y_translation (float): The y translation.\n",
    "        z_translation (float): The z translation.\n",
    "        x_rotation (float): The x rotation, in degrees.\n",
    "        y_rotation (float): The y rotation, in degrees.\n",
    "        z_rotation (float): The z rotation, in degrees.\n",
    "\n",
    "    Returns:\n",
    "        np.ndarray: 4x4 standard homogenous transformation matrix.\n",
    "    \"\"\"\n",
    "\n",
    "    # Convert degrees to radians.\n",
    "    x_rotation = math.radians(x_rotation)\n",
    "    y_rotation = math.radians(y_rotation)\n",
    "    z_rotation = math.radians(z_rotation)\n",
    "\n",
    "    # Create the rotation matrix.\n",
    "    rotation_matrix_x = np.array([\n",
    "        [1, 0, 0, 0],\n",
    "        [0, math.cos(x_rotation), -math.sin(x_rotation), 0],\n",
    "        [0, math.sin(x_rotation), math.cos(x_rotation), 0],\n",
    "        [0, 0, 0, 1]\n",
    "    ])\n",
    "    rotation_matrix_y = np.array([\n",
    "        [math.cos(y_rotation), 0, math.sin(y_rotation), 0],\n",
    "        [0, 1, 0, 0],\n",
    "        [-math.sin(y_rotation), 0, math.cos(y_rotation), 0],\n",
    "        [0, 0, 0, 1]\n",
    "    ])\n",
    "    rotation_matrix_z = np.array([\n",
    "        [math.cos(z_rotation), -math.sin(z_rotation), 0, 0],\n",
    "        [math.sin(z_rotation), math.cos(z_rotation), 0, 0],\n",
    "        [0, 0, 1, 0],\n",
    "        [0, 0, 0, 1]\n",
    "    ])\n",
    "    rotation_matrix = rotation_matrix_x @ rotation_matrix_y @ rotation_matrix_z\n",
    "\n",
    "    # Create the translation matrix.\n",
    "    translation_matrix = np.array([\n",
    "        [1, 0, 0, x_translation],\n",
    "        [0, 1, 0, y_translation],\n",
    "        [0, 0, 1, z_translation],\n",
    "        [0, 0, 0, 1]\n",
    "    ])\n",
    "\n",
    "    # Combine the rotation and translation matrices.\n",
    "    return translation_matrix @ rotation_matrix\n"
   ]
  },
  {
   "cell_type": "code",
   "execution_count": 21,
   "metadata": {},
   "outputs": [
    {
     "name": "stdout",
     "output_type": "stream",
     "text": [
      "Shape of poses: (1931, 4, 4)\n"
     ]
    }
   ],
   "source": [
    "print(f\"Shape of poses: {poses.shape}\")"
   ]
  },
  {
   "cell_type": "code",
   "execution_count": 22,
   "metadata": {},
   "outputs": [],
   "source": [
    "transform = create_linear_transform(0, 0, 0, 0, 30, 180)"
   ]
  },
  {
   "cell_type": "code",
   "execution_count": 23,
   "metadata": {},
   "outputs": [],
   "source": [
    "# Apply the transform to each pose.\n",
    "poses = np.transpose(np.transpose(poses, (0, 2, 1)) @ transform.T, (0, 2, 1))"
   ]
  },
  {
   "cell_type": "code",
   "execution_count": 24,
   "metadata": {},
   "outputs": [],
   "source": [
    "poses = np.transpose(poses, (0, 2, 1))\n",
    "poses = poses.reshape((poses.shape[0], -1))\n",
    "\n",
    "with open(ts_path.replace(\".ts\", \"_corrected.csv\"), \"w\") as f:\n",
    "    for i in range(poses.shape[0]):\n",
    "        f.write(\",\".join([str(x) for x in poses[i]]) + \"\\n\")"
   ]
  },
  {
   "cell_type": "code",
   "execution_count": null,
   "metadata": {},
   "outputs": [],
   "source": []
  },
  {
   "cell_type": "code",
   "execution_count": null,
   "metadata": {},
   "outputs": [],
   "source": []
  }
 ],
 "metadata": {
  "kernelspec": {
   "display_name": "Python 3 (ipykernel)",
   "language": "python",
   "name": "python3"
  },
  "language_info": {
   "codemirror_mode": {
    "name": "ipython",
    "version": 3
   },
   "file_extension": ".py",
   "mimetype": "text/x-python",
   "name": "python",
   "nbconvert_exporter": "python",
   "pygments_lexer": "ipython3",
   "version": "3.10.8"
  }
 },
 "nbformat": 4,
 "nbformat_minor": 2
}
